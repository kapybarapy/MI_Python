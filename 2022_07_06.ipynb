{
  "nbformat": 4,
  "nbformat_minor": 0,
  "metadata": {
    "colab": {
      "name": "2022.07.06.ipynb",
      "provenance": [],
      "collapsed_sections": [],
      "authorship_tag": "ABX9TyM2p6/U3Nj8uH+sWRB7PQ7w",
      "include_colab_link": true
    },
    "kernelspec": {
      "name": "python3",
      "display_name": "Python 3"
    },
    "language_info": {
      "name": "python"
    }
  },
  "cells": [
    {
      "cell_type": "markdown",
      "metadata": {
        "id": "view-in-github",
        "colab_type": "text"
      },
      "source": [
        "<a href=\"https://colab.research.google.com/github/kapybarapy/MI_Python/blob/main/2022_07_06.ipynb\" target=\"_parent\"><img src=\"https://colab.research.google.com/assets/colab-badge.svg\" alt=\"Open In Colab\"/></a>"
      ]
    },
    {
      "cell_type": "markdown",
      "source": [
        "## Pythonの基本文法"
      ],
      "metadata": {
        "id": "rE3SZbUjkevN"
      }
    },
    {
      "cell_type": "markdown",
      "source": [
        "## 関数"
      ],
      "metadata": {
        "id": "3kQMKKys3EbC"
      }
    },
    {
      "cell_type": "markdown",
      "source": [
        "(プログラミングにおける)関数とは、値を与えると何らかの処理をして、返り値として結果を返すもののことをいいます。\n",
        "\n",
        "関数のメリット\n",
        "\n",
        "①必要な処理をまとめられるので**プログラムが簡潔**になり、全体の動きが把握しやすくなる。\n",
        "\n",
        "②同じ処理を複数箇所で使い回すことができ **記述量の削減**、可読性の向上に繋がる。"
      ],
      "metadata": {
        "id": "s1NFquHU8RmR"
      }
    },
    {
      "cell_type": "markdown",
      "source": [
        "[Python関数の基本：使い方と作り方・引数と戻り値【初心者編】](https://www.modis.co.jp/candidate/insight/column_121)"
      ],
      "metadata": {
        "id": "cl6CjT8NhcBa"
      }
    },
    {
      "cell_type": "markdown",
      "source": [
        "問１.「I'm Yamada」と出力する関数introduceを作ってください。\n",
        "\n",
        "出力はprint関数を用いてください。"
      ],
      "metadata": {
        "id": "aG0FE_GD9Xzx"
      }
    },
    {
      "cell_type": "code",
      "source": [
        "# 「I'm Yamada」と出力する関数introduceを作ってください\n",
        "\n",
        "\n",
        "\n",
        "# 関数の呼び出し\n",
        "introduce()"
      ],
      "metadata": {
        "id": "HGpA2oo9-rQ8"
      },
      "execution_count": null,
      "outputs": []
    },
    {
      "cell_type": "markdown",
      "source": [
        "問2.引数nを用いて、引数を３乗した値を表示する関数cube_calを作ってください。"
      ],
      "metadata": {
        "id": "f2nvKHFo-1FP"
      }
    },
    {
      "cell_type": "code",
      "source": [
        "# 引数nを用いて、引数を３乗した値を出力する関数cube_calを作ってください \n",
        "\n",
        "\n",
        "# 関数の呼び出し\n",
        "cube_cal(4)"
      ],
      "metadata": {
        "id": "wivcFuat-9hr"
      },
      "execution_count": null,
      "outputs": []
    },
    {
      "cell_type": "markdown",
      "source": [
        "問3.第1引数をn、第2引数をageとする関数introduceを作ってください。"
      ],
      "metadata": {
        "id": "NA-VPpNz_DyC"
      }
    },
    {
      "cell_type": "code",
      "source": [
        "# 関数introduceを作ってください\n",
        "\n",
        "\n",
        "# 関数の呼び出し\n",
        "introduce(\"Yamada\", 18)"
      ],
      "metadata": {
        "id": "x09fo_nW_ZUu"
      },
      "execution_count": null,
      "outputs": []
    },
    {
      "cell_type": "markdown",
      "source": [
        "問4.引数nの初期値を「Yamada」にしてください。\n",
        "引数に「18」のみ入れて関数の呼び出しを行なってください。"
      ],
      "metadata": {
        "id": "v-2dRe2i_q4K"
      }
    },
    {
      "cell_type": "code",
      "source": [
        "# 初期値を設定してください\n",
        "def introduce(age, n):\n",
        "    print(n + \" is my name. I'm \" + str(age) + \" years old.\")\n",
        "\n",
        "# 関数の呼び出し"
      ],
      "metadata": {
        "id": "a5kHbOaPAHpg"
      },
      "execution_count": null,
      "outputs": []
    },
    {
      "cell_type": "markdown",
      "source": [
        "問5.BMIを計算する関数を作り、bmiの値を返り値としてください。"
      ],
      "metadata": {
        "id": "FktX-PndATzy"
      }
    },
    {
      "cell_type": "code",
      "source": [
        "# bmiを計算する関数を作り、bmiの値を返り値としてください\n",
        "\n",
        "\n",
        "\n",
        "print(bmi(1.65, 65))"
      ],
      "metadata": {
        "id": "Nbsn3-GCAgn5"
      },
      "execution_count": null,
      "outputs": []
    },
    {
      "cell_type": "markdown",
      "source": [
        "## 条件分岐"
      ],
      "metadata": {
        "id": "48Srti2ifYyV"
      }
    },
    {
      "cell_type": "markdown",
      "source": [
        "if文とは、条件に従って処理を分岐させるために使われるものです。"
      ],
      "metadata": {
        "id": "qz7O5qQbk7pU"
      }
    },
    {
      "cell_type": "markdown",
      "source": [
        "if文を記述する際に、条件がいくつかある場合、**elif**を使って条件を増やすことができます。\n",
        "\n",
        "また、全ての条件を満たさなかった場合の処理は、**else**を使って書きます。"
      ],
      "metadata": {
        "id": "XjUzlzJ_WVFv"
      }
    },
    {
      "cell_type": "markdown",
      "source": [
        "[【Python if文の基本編】条件分岐を3つのステップで簡単理解](https://www.sejuku.net/blog/16007)"
      ],
      "metadata": {
        "id": "wVkbS8Dkizy8"
      }
    },
    {
      "cell_type": "markdown",
      "source": [
        "問1.ifを用いて変数nが15より大きい場合「Very large numbers」と出力してください。\n",
        "\n",
        "出力はprint関数を用いてください。"
      ],
      "metadata": {
        "id": "5qCb3Wbqfjc2"
      }
    },
    {
      "cell_type": "code",
      "source": [
        "n = 16\n",
        "\n",
        "# ifを用いて変数nが15より大きい場合「Very large numbers」と出力してください"
      ],
      "metadata": {
        "id": "WHAr0bfWfgy-"
      },
      "execution_count": null,
      "outputs": []
    },
    {
      "cell_type": "markdown",
      "source": [
        "問2.elseを用いてnが15以下のときに「Small numbers」を出力してください。\n",
        "\n",
        "出力は全てprint関数を用いてください。"
      ],
      "metadata": {
        "id": "1ZijdOM0f0mq"
      }
    },
    {
      "cell_type": "code",
      "source": [
        "n = 14\n",
        "\n",
        "if n > 15:\n",
        "    print(\"Very large numbers\")\n",
        "# elseを用いて「Small numbers」を出力してください"
      ],
      "metadata": {
        "id": "PIw4V9i0gB9Q"
      },
      "execution_count": null,
      "outputs": []
    },
    {
      "cell_type": "markdown",
      "source": [
        "問3.elifを用いてnが11以上15以下の時、「Medium numbers」と出力してください。"
      ],
      "metadata": {
        "id": "CEBz9J4jgiXr"
      }
    },
    {
      "cell_type": "code",
      "source": [
        "n = 14\n",
        "\n",
        "if n > 15:\n",
        "    print(\"Very large numbers\")\n",
        "# elifを用いてnが11以上15以下の時、「Medium numbers」と出力してください\n",
        "\n",
        "\n",
        "else:\n",
        "    print(\"Small numbers\")"
      ],
      "metadata": {
        "id": "mGfcRdXWgr1S"
      },
      "execution_count": null,
      "outputs": []
    },
    {
      "cell_type": "markdown",
      "source": [
        "問4.num1が8より大きく14より小さいという条件式を作り、判定結果をprintで出力してください。\n",
        "\n",
        "num1の2乗が変数num2の5倍より小さくない」という条件式を作り、判定結果をprintで出力してください。"
      ],
      "metadata": {
        "id": "7UsAZsjkgwsq"
      }
    },
    {
      "cell_type": "code",
      "source": [
        "num1 = 14\n",
        "num2 = 28\n",
        "\n",
        "# andを用いて「num1が8より大きく14より小さい」という条件式を作り、判定結果を出力してください\n",
        "print()\n",
        "\n",
        "# notを用いて「num1の2乗がnum2の5倍より小さくない」という条件式を作り、判定結果を出力してください\n",
        "print()"
      ],
      "metadata": {
        "id": "K531l14qg8OU"
      },
      "execution_count": null,
      "outputs": []
    }
  ]
}