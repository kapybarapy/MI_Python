{
  "nbformat": 4,
  "nbformat_minor": 0,
  "metadata": {
    "colab": {
      "name": "2022.06.22.ipynb",
      "provenance": [],
      "collapsed_sections": [],
      "authorship_tag": "ABX9TyNbQaILMvRQmv43KCePSw6l",
      "include_colab_link": true
    },
    "kernelspec": {
      "name": "python3",
      "display_name": "Python 3"
    },
    "language_info": {
      "name": "python"
    }
  },
  "cells": [
    {
      "cell_type": "markdown",
      "metadata": {
        "id": "view-in-github",
        "colab_type": "text"
      },
      "source": [
        "<a href=\"https://colab.research.google.com/github/kapybarapy/MI_Python/blob/main/2022_06_22.ipynb\" target=\"_parent\"><img src=\"https://colab.research.google.com/assets/colab-badge.svg\" alt=\"Open In Colab\"/></a>"
      ]
    },
    {
      "cell_type": "markdown",
      "source": [
        "## Pythonの基本文法"
      ],
      "metadata": {
        "id": "Jg6igC4j2KOD"
      }
    },
    {
      "cell_type": "markdown",
      "source": [
        "### リスト型"
      ],
      "metadata": {
        "id": "Up8K5Y9eEcHw"
      }
    },
    {
      "cell_type": "markdown",
      "source": [
        "[【追加/削除】Pythonのlist（リスト）の使い方を徹底解説](https://www.modis.co.jp/candidate/insight/column_98)"
      ],
      "metadata": {
        "id": "iyyFm4degtYs"
      }
    },
    {
      "cell_type": "markdown",
      "source": [
        "問１.変数cに「red」、「blue」、「yellow」の3つの文字列を代入し、print関数を用いて出力してください。\n",
        "\n",
        "変数cの型をprint関数を用いて出力してください。"
      ],
      "metadata": {
        "id": "WZkr_KcpF0KT"
      }
    },
    {
      "cell_type": "code",
      "source": [
        "# 変数cに「red」「blue」「yellow」の3つの文字列を代入してください。\n",
        "c = \n",
        "\n",
        "print(c)\n",
        "\n",
        "# cの型を出力してください"
      ],
      "metadata": {
        "id": "MpsccleQFjGr"
      },
      "execution_count": null,
      "outputs": []
    },
    {
      "cell_type": "markdown",
      "source": [
        "問２.変数名fruitsにリスト型で、apple、grape、bananaの変数を要素として格納してください。"
      ],
      "metadata": {
        "id": "KwcObtgfGfbS"
      }
    },
    {
      "cell_type": "code",
      "source": [
        "apple = 4\n",
        "grape = 3\n",
        "banana = 6\n",
        "\n",
        "# 変数名fruitsにリスト型で変数を要素としてapple、grape、bananaの順に格納してください\n",
        "\n",
        "\n",
        "print(fruits)"
      ],
      "metadata": {
        "id": "QINOBKfFGd1U"
      },
      "execution_count": null,
      "outputs": []
    },
    {
      "cell_type": "markdown",
      "source": [
        "問3.変数fruitsの2番目の要素を出力してください。\n",
        "\n",
        "変数fruitsの最後の要素を出力してください。\n",
        "\n",
        "出力はprint関数を用いてください。"
      ],
      "metadata": {
        "id": "6e2CojCFGqVf"
      }
    },
    {
      "cell_type": "code",
      "source": [
        "fruits = [\"apple\", 2, \"orange\", 4, \"grape\", 3, \"banana\", 1]\n",
        "\n",
        "# 変数fruitsの2番目の要素を出力してください\n",
        "\n",
        "\n",
        "# 変数fruitsの最後の要素を出力してください\n"
      ],
      "metadata": {
        "id": "bIx0kDvBFjLO"
      },
      "execution_count": null,
      "outputs": []
    },
    {
      "cell_type": "markdown",
      "source": [
        "問4.リストchaosから以下の要素を取り出し、変数fruitsに代入してください。\n",
        "\n",
        "[\"apple\", 2, \"orange\", 4, \"grape\", 3, \"banana\", 1]\n",
        "\n",
        "変数fruitsをprint関数で出力してください。"
      ],
      "metadata": {
        "id": "g6mfUrjhG7FS"
      }
    },
    {
      "cell_type": "code",
      "source": [
        "chaos = [\"cat\", \"apple\", 2, \"orange\", 4, \"grape\", 3, \"banana\", 1, \"elephant\", \"dog\"]\n",
        "\n",
        "# リストchaosから[\"apple\", 2, \"orange\", 4, \"grape\", 3, \"banana\", 1]という要素を取り出し、変数fruitsに代入してください\n",
        "\n",
        "\n",
        "# 変数fruitsを出力\n",
        "print(fruits)"
      ],
      "metadata": {
        "id": "k7g3LkwTFjRD"
      },
      "execution_count": null,
      "outputs": []
    },
    {
      "cell_type": "markdown",
      "source": [
        "問5.リストcの最初の要素を「red」に上書きしてください。\n",
        "\n",
        "リストの末尾に文字列「green」を追加してください。"
      ],
      "metadata": {
        "id": "IYWFjXIOIGAf"
      }
    },
    {
      "cell_type": "code",
      "source": [
        "c = [\"dog\", \"blue\", \"yellow\"]\n",
        "\n",
        "# 変数cの最初の要素を「red」に上書きしてください\n",
        "\n",
        "print(c)\n",
        "\n",
        "# リストの末尾に文字列「green」を追加してください\n",
        "\n",
        "print(c)"
      ],
      "metadata": {
        "id": "AR4r3klpFjUG"
      },
      "execution_count": null,
      "outputs": []
    },
    {
      "cell_type": "markdown",
      "source": [
        "問6.変数cの一番最初の要素を削除してください。"
      ],
      "metadata": {
        "id": "aCuBUoHyIS7q"
      }
    },
    {
      "cell_type": "code",
      "source": [
        "c = [\"dog\", \"blue\", \"yellow\"]\n",
        "print(c)\n",
        "\n",
        "# 変数cの最初の要素を削除してください\n",
        "\n",
        "print(c)"
      ],
      "metadata": {
        "id": "oarT9XCfIdw3"
      },
      "execution_count": null,
      "outputs": []
    },
    {
      "cell_type": "markdown",
      "source": [
        "### 型\n",
        "\n",
        "Pythonの値には型と呼ばれる標準で組み込まれているデータ型があります。\n",
        "よく使われるのが次の3つの型です。\n",
        "\n",
        "**str型：文字列**\n",
        "\n",
        "**int型：整数**\n",
        "\n",
        "**float型：浮動小数点数（小数点を含む数値のこと）**\n",
        "\n",
        "変数の型を調べる方法 として、type関数があります。type()を用いることで()内の変数に格納されている値の型を知ることができます。"
      ],
      "metadata": {
        "id": "Y3j1vWHvILim"
      }
    },
    {
      "cell_type": "code",
      "source": [
        "height = 177\n",
        "print(\"身長は\" + height + \"cmです。\") "
      ],
      "metadata": {
        "id": "xYVqHChmKRui"
      },
      "execution_count": null,
      "outputs": []
    },
    {
      "cell_type": "markdown",
      "source": [
        "違う型同士の計算や結合をするためには **型の変換**を行います。\n",
        "\n",
        "**str()** : 文字列に変換\n",
        "\n",
        "**int()** : 整数値に変換\n",
        "\n",
        "**float()** : 小数点を含む数値型に変換"
      ],
      "metadata": {
        "id": "8-Cwh3MxJ9Re"
      }
    },
    {
      "cell_type": "markdown",
      "source": [
        "型について最も重要なポイントは、 下記の2点です。\n",
        "\n",
        "**①異なる型同士では結合・計算できない**\n",
        "\n",
        "**②数値であっても、str型で保存されている場合には計算できない**"
      ],
      "metadata": {
        "id": "HHdQWI4RLI5Q"
      }
    },
    {
      "cell_type": "markdown",
      "source": [
        "その他の型\n",
        "\n",
        "**None型(値が存在しない型)** :  値が存在しない型\n",
        "\n",
        "**bool型(真偽値型)** : TrueかFalseのみの値を持つ型"
      ],
      "metadata": {
        "id": "SR-r8rDjMtYd"
      }
    },
    {
      "cell_type": "markdown",
      "source": [
        "問1.typeを用いて、変数numの型を出力してください。"
      ],
      "metadata": {
        "id": "Dwe64ZCXDKoz"
      }
    },
    {
      "cell_type": "code",
      "source": [
        "num = 1.41421356\n",
        "print() # ()を埋めてください。"
      ],
      "metadata": {
        "id": "26Gj1PxdHjhG"
      },
      "execution_count": null,
      "outputs": []
    },
    {
      "cell_type": "markdown",
      "source": [
        "問2.text変数に自分の名前の文字列を代入してください。"
      ],
      "metadata": {
        "id": "D1P7h6l2DTDF"
      }
    },
    {
      "cell_type": "code",
      "source": [
        "text = ''\n",
        "print(text)"
      ],
      "metadata": {
        "id": "MIPO4tLQDdv9"
      },
      "execution_count": null,
      "outputs": []
    },
    {
      "cell_type": "markdown",
      "source": [
        "問3.text1変数とtext2変数を結合して文章を完成させ、printで出力してください。"
      ],
      "metadata": {
        "id": "xa1JWss9DiiM"
      }
    },
    {
      "cell_type": "code",
      "source": [
        "text1 = '今日は、'\n",
        "text2 = '良い天気です'\n",
        "\n",
        "# text1変数とtext2変数を結合してprintで出力してください"
      ],
      "metadata": {
        "id": "7Tq7yH-ODn-X"
      },
      "execution_count": null,
      "outputs": []
    },
    {
      "cell_type": "markdown",
      "source": [
        "問4.flag1変数にTrueを、flag2変数にFalseを代入して、実行結果を確かめてください。"
      ],
      "metadata": {
        "id": "l7RlzdMNDsYT"
      }
    },
    {
      "cell_type": "code",
      "source": [
        "flag1 = \n",
        "print(flag1)\n",
        "print(type(flag1))\n",
        "\n",
        "flag2 = \n",
        "print(flag2)\n",
        "print(type(flag2))"
      ],
      "metadata": {
        "id": "Jz3PfAQYDyvM"
      },
      "execution_count": null,
      "outputs": []
    },
    {
      "cell_type": "markdown",
      "source": [
        "問5.変数num、変数text1、変数text2を用いて猫が10匹いるの文字列を作成し、printで出力してください。"
      ],
      "metadata": {
        "id": "QYulbIerEIg3"
      }
    },
    {
      "cell_type": "code",
      "source": [
        "num = 10\n",
        "text1 = '猫が'\n",
        "text2 = '匹いる'\n",
        "\n",
        "# 猫が10匹いる の文字列を作成し、printで出力してください\n"
      ],
      "metadata": {
        "id": "90mpPTjUEjhW"
      },
      "execution_count": null,
      "outputs": []
    },
    {
      "cell_type": "markdown",
      "source": [
        "問6.あなたの合計金額は400円ですとprintで表示させてください。\n",
        "\n",
        "(コードの間違いを正してください)"
      ],
      "metadata": {
        "id": "K7j-eudEEt5M"
      }
    },
    {
      "cell_type": "code",
      "source": [
        "apple = '100'\n",
        "num = 4 \n",
        "\n",
        "text = 'あなたの合計金額は' + apple * num + '円です'\n",
        "print(text)"
      ],
      "metadata": {
        "id": "vsC8PMa6E79X"
      },
      "execution_count": null,
      "outputs": []
    }
  ]
}